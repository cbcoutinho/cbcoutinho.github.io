{
 "cells": [
  {
   "cell_type": "code",
   "execution_count": null,
   "metadata": {},
   "outputs": [],
   "source": [
    "import numpy as np\n",
    "import matplotlib.pyplot as plt"
   ]
  },
  {
   "cell_type": "code",
   "execution_count": null,
   "metadata": {},
   "outputs": [],
   "source": [
    "plt.plot(np.random.rand(10))"
   ]
  },
  {
   "cell_type": "code",
   "execution_count": null,
   "metadata": {},
   "outputs": [],
   "source": [
    "x = np.linspace(0,1)\n",
    "plt.plot(x, x**2)"
   ]
  },
  {
   "cell_type": "code",
   "execution_count": null,
   "metadata": {},
   "outputs": [],
   "source": [
    "def circle(t, xy=[0,0]):\n",
    "    \"\"\" Return the position of a point on a circle that\n",
    "    begins at the bottom \"\"\"\n",
    "    return np.array((-np.sin(t) + xy[0], -np.cos(t) + xy[1]))\n",
    "\n",
    "def dcircle(t):\n",
    "    \"\"\"Return the velocity of the point on a circle as \"\"\"\n",
    "    return np.array((-np.cos(t), np.sin(t)))\n",
    "\n",
    "times = np.linspace(0, 2*np.pi)\n",
    "p = [0,1]\n",
    "fig, ax = plt.subplots()\n",
    "ax.plot(*circle(times, xy=p))\n",
    "# ax.plot(*circle(t, xy=[2*np.pi, 1]))\n",
    "\n",
    "for t in times[::5]:\n",
    "    ax.annotate(\n",
    "        f\"{circle(t,xy=p)}\",\n",
    "        xy=circle(t, xy=p),\n",
    "        xytext=circle(t,xy=p) + dcircle(t),\n",
    "        arrowprops=dict(arrowstyle='<-')\n",
    "    )\n",
    "\n",
    "#fig.tight_layout()"
   ]
  }
 ],
 "metadata": {
  "kernelspec": {
   "display_name": "Python 3",
   "language": "python",
   "name": "python3"
  },
  "language_info": {
   "codemirror_mode": {
    "name": "ipython",
    "version": 3
   },
   "file_extension": ".py",
   "mimetype": "text/x-python",
   "name": "python",
   "nbconvert_exporter": "python",
   "pygments_lexer": "ipython3",
   "version": "3.7.2"
  }
 },
 "nbformat": 4,
 "nbformat_minor": 4
}
