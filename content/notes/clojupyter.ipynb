{
 "cells": [
  {
   "cell_type": "code",
   "execution_count": null,
   "metadata": {},
   "outputs": [],
   "source": [
    "(require '[clojupyter.display :as display]\n",
    "         '[clojupyter.misc.helper :as helper])\n",
    "(helper/add-dependencies '[metasoarous/oz \"1.5.6\"])\n",
    "(helper/add-dependencies '[incanter \"1.9.3\"])\n",
    "(require '[oz.notebook.clojupyter :as oz]\n",
    "         '(incanter [stats :as stats] [charts :as charts]))"
   ]
  },
  {
   "cell_type": "code",
   "execution_count": null,
   "metadata": {},
   "outputs": [],
   "source": [
    "(println \">> should print some text\")\n",
    "(display/hiccup-html\n",
    " [:ul\n",
    "  [:li \"a \" [:i \"emphatic\"] \" idea\"]\n",
    "  [:li \"a \" [:b \"bold\"] \" idea\"]\n",
    "  [:li \"an \" [:span {:style \"text-decoration: underline;\"} \"important\"] \" idea\"]])"
   ]
  },
  {
   "cell_type": "code",
   "execution_count": null,
   "metadata": {},
   "outputs": [],
   "source": [
    "(->\n",
    "    (charts/histogram\n",
    "     (stats/sample-normal 1000)\n",
    "     :x-label \"Sample x value\")\n",
    "    (.createBufferedImage 600 400))"
   ]
  },
  {
   "cell_type": "code",
   "execution_count": null,
   "metadata": {},
   "outputs": [],
   "source": [
    "(-> (charts/scatter-plot\n",
    "     (stats/sample-normal 1000)\n",
    "     (stats/sample-normal 1000)\n",
    "     :x-label \"x\" :y-label \"y\")\n",
    "    (.createBufferedImage 600 400))"
   ]
  },
  {
   "cell_type": "code",
   "execution_count": null,
   "metadata": {},
   "outputs": [],
   "source": [
    "(reduce + (range 100))"
   ]
  },
  {
   "cell_type": "code",
   "execution_count": null,
   "metadata": {},
   "outputs": [],
   "source": [
    "(defn datapt [[s n]] {:Index s, :Value n})\n",
    "(defn graph  [vs]    {:data {:values vs}, \n",
    "                      :mark :line\n",
    "                      :encoding {:x {:field :Index}\n",
    "                                 :y {:field :Value}}})\n",
    "(def graph-it (comp graph (partial map datapt) (partial apply map vector)));"
   ]
  },
  {
   "cell_type": "code",
   "execution_count": null,
   "metadata": {},
   "outputs": [],
   "source": [
    "(defn raw-data [] (map #(+ % (rand-int 25)) (range)))"
   ]
  },
  {
   "cell_type": "code",
   "execution_count": null,
   "metadata": {},
   "outputs": [],
   "source": [
    "(let [G (->> [(range) (take 50 (raw-data))] graph-it)]\n",
    "  (display/render-mime :application/vnd.vegalite.v2+json G))"
   ]
  }
 ],
 "metadata": {
  "kernelspec": {
   "display_name": "Clojure (clojupyter-0.2.3)",
   "language": "clojure",
   "name": "clojupyter-0.2.3"
  },
  "language_info": {
   "file_extension": ".clj",
   "mimetype": "text/x-clojure",
   "name": "clojure",
   "version": "1.10.1"
  }
 },
 "nbformat": 4,
 "nbformat_minor": 4
}
