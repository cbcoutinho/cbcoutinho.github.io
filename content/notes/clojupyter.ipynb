{
 "cells": [
  {
   "cell_type": "code",
   "execution_count": null,
   "metadata": {},
   "outputs": [],
   "source": [
    "(require '[clojupyter.misc.display :as display])"
   ]
  },
  {
   "cell_type": "code",
   "execution_count": null,
   "metadata": {},
   "outputs": [],
   "source": [
    "(println \">> should print some text\")\n",
    "(display/hiccup-html\n",
    " [:ul\n",
    "  [:li \"a \" [:i \"emphatic\"] \" idea\"]\n",
    "  [:li \"a \" [:b \"bold\"] \" idea\"]\n",
    "  [:li \"an \" [:span {:style \"text-decoration: underline;\"} \"important\"] \" idea\"]])"
   ]
  },
  {
   "cell_type": "code",
   "execution_count": null,
   "metadata": {},
   "outputs": [],
   "source": [
    "(do\n",
    "    (require '[cemerick.pomegranate :refer (add-dependencies)])\n",
    "    (add-dependencies :coordinates '[[incanter \"1.9.3\"]]\n",
    "                      :repositories (merge cemerick.pomegranate.aether/maven-central\n",
    "                                           {\"clojars\" \"https://clojars.org/repo\"}))\n",
    "    (require '(incanter core stats charts)))\n",
    "    ;(require '[incanter :refer (core stats charts)]))"
   ]
  },
  {
   "cell_type": "code",
   "execution_count": null,
   "metadata": {},
   "outputs": [],
   "source": [
    "(->\n",
    "    (incanter.charts/histogram\n",
    "     (incanter.stats/sample-normal 1000)\n",
    "     :x-label \"Sample x value\")\n",
    "    (.createBufferedImage 600 400))"
   ]
  },
  {
   "cell_type": "code",
   "execution_count": null,
   "metadata": {},
   "outputs": [],
   "source": [
    "(-> (incanter.charts/scatter-plot\n",
    "     (incanter.stats/sample-normal 1000)\n",
    "     (incanter.stats/sample-normal 1000)\n",
    "     :x-label \"x\" :y-label \"y\")\n",
    "    (.createBufferedImage 600 400))"
   ]
  },
  {
   "cell_type": "code",
   "execution_count": null,
   "metadata": {},
   "outputs": [],
   "source": [
    "(reduce + (range 100))"
   ]
  }
 ],
 "metadata": {
  "kernelspec": {
   "display_name": "Clojure (clojupyter-v0.2.2)",
   "language": "clojure",
   "name": "clojupyter"
  },
  "language_info": {
   "file_extension": ".clj",
   "mimetype": "text/x-clojure",
   "name": "clojure",
   "version": "1.10.0"
  }
 },
 "nbformat": 4,
 "nbformat_minor": 4
}
